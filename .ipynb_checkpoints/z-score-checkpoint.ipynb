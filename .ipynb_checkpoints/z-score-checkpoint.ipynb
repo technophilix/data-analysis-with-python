{
 "cells": [
  {
   "cell_type": "code",
   "execution_count": 11,
   "id": "5ce2fad5-e584-4884-8f57-7611e30e0773",
   "metadata": {},
   "outputs": [
    {
     "name": "stdout",
     "output_type": "stream",
     "text": [
      "[-0.43418313 -0.42892485 -0.42366658 -0.42366658 -0.42366658 -0.41840831\n",
      " -0.41315003 -0.39211694 -0.38685867 -0.38685867 -0.3816004  -0.3605673\n",
      "  2.17392037  2.69974768]\n"
     ]
    }
   ],
   "source": [
    "import scipy.stats as stats\n",
    "values =[4,5,6,6,6,7,8,12,13,13,14,18, 500, 600]\n",
    "zscores = stats.zscore(values)\n",
    "print(zscores)"
   ]
  },
  {
   "cell_type": "code",
   "execution_count": null,
   "id": "c77694e9-88cd-4153-820b-e6da2f070c05",
   "metadata": {},
   "outputs": [],
   "source": []
  },
  {
   "cell_type": "code",
   "execution_count": null,
   "id": "cf5624e8-bc5b-40bc-97a5-006f2d77acb9",
   "metadata": {},
   "outputs": [],
   "source": []
  }
 ],
 "metadata": {
  "kernelspec": {
   "display_name": "Python 3",
   "language": "python",
   "name": "python3"
  },
  "language_info": {
   "codemirror_mode": {
    "name": "ipython",
    "version": 3
   },
   "file_extension": ".py",
   "mimetype": "text/x-python",
   "name": "python",
   "nbconvert_exporter": "python",
   "pygments_lexer": "ipython3",
   "version": "3.9.5"
  }
 },
 "nbformat": 4,
 "nbformat_minor": 5
}
