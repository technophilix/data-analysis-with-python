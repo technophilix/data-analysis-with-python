{
 "cells": [
  {
   "cell_type": "code",
   "execution_count": 1,
   "id": "de27fbf1-1ade-4c0b-a0bb-6b8d27284b81",
   "metadata": {},
   "outputs": [],
   "source": [
    "person ={\n",
    "    \"first\":\"Agniswar\",\n",
    "    \"last\": \"chakraborty\",\n",
    "    \"email\":\"agniwebdesign@gmail.com\"\n",
    "    \n",
    "}\n",
    "\n",
    "people = {\n",
    "    \"first\":[\"Agniswar\", \"Sitendu\", \"Yugant\"],\n",
    "    \"last\": [\"Chakraborty\", \"Das\", \"Nayek\"],\n",
    "    \"email\":[\"agniwebdesign@gmail.com\", \"sitendu@gmail.com\",\"yagant@gmail.com\"]\n",
    "}"
   ]
  },
  {
   "cell_type": "code",
   "execution_count": 2,
   "id": "ff45df63-46c4-44ae-9591-8d4b0d2eb399",
   "metadata": {},
   "outputs": [],
   "source": [
    "import pandas as pd\n"
   ]
  },
  {
   "cell_type": "code",
   "execution_count": 3,
   "id": "e12fb172-5504-4f83-8f9f-297a595629b3",
   "metadata": {},
   "outputs": [],
   "source": [
    "df = pd.DataFrame(people)\n"
   ]
  },
  {
   "cell_type": "code",
   "execution_count": 4,
   "id": "07e57e8d-b8ff-4e77-ac71-1529d8aa3dba",
   "metadata": {},
   "outputs": [
    {
     "data": {
      "text/html": [
       "<div>\n",
       "<style scoped>\n",
       "    .dataframe tbody tr th:only-of-type {\n",
       "        vertical-align: middle;\n",
       "    }\n",
       "\n",
       "    .dataframe tbody tr th {\n",
       "        vertical-align: top;\n",
       "    }\n",
       "\n",
       "    .dataframe thead th {\n",
       "        text-align: right;\n",
       "    }\n",
       "</style>\n",
       "<table border=\"1\" class=\"dataframe\">\n",
       "  <thead>\n",
       "    <tr style=\"text-align: right;\">\n",
       "      <th></th>\n",
       "      <th>first</th>\n",
       "      <th>last</th>\n",
       "      <th>email</th>\n",
       "    </tr>\n",
       "  </thead>\n",
       "  <tbody>\n",
       "    <tr>\n",
       "      <th>0</th>\n",
       "      <td>Agniswar</td>\n",
       "      <td>Chakraborty</td>\n",
       "      <td>agniwebdesign@gmail.com</td>\n",
       "    </tr>\n",
       "    <tr>\n",
       "      <th>1</th>\n",
       "      <td>Sitendu</td>\n",
       "      <td>Das</td>\n",
       "      <td>sitendu@gmail.com</td>\n",
       "    </tr>\n",
       "    <tr>\n",
       "      <th>2</th>\n",
       "      <td>Yugant</td>\n",
       "      <td>Nayek</td>\n",
       "      <td>yagant@gmail.com</td>\n",
       "    </tr>\n",
       "  </tbody>\n",
       "</table>\n",
       "</div>"
      ],
      "text/plain": [
       "      first         last                    email\n",
       "0  Agniswar  Chakraborty  agniwebdesign@gmail.com\n",
       "1   Sitendu          Das        sitendu@gmail.com\n",
       "2    Yugant        Nayek         yagant@gmail.com"
      ]
     },
     "execution_count": 4,
     "metadata": {},
     "output_type": "execute_result"
    }
   ],
   "source": [
    "df"
   ]
  },
  {
   "cell_type": "code",
   "execution_count": 6,
   "id": "4e6a9897-808a-42de-97e2-8862a4fe12ee",
   "metadata": {},
   "outputs": [
    {
     "data": {
      "text/plain": [
       "0     True\n",
       "1    False\n",
       "2    False\n",
       "Name: last, dtype: bool"
      ]
     },
     "execution_count": 6,
     "metadata": {},
     "output_type": "execute_result"
    }
   ],
   "source": [
    "df['last'] == 'Chakraborty'"
   ]
  },
  {
   "cell_type": "code",
   "execution_count": 25,
   "id": "7af3114a-6fd7-440e-abbb-f12825ba8608",
   "metadata": {},
   "outputs": [],
   "source": [
    "filt = (df['last']== 'Chakraborty')\n",
    "filt1 = (df['last']== 'Chakraborty') | (df['first']== 'Sitendu')\n",
    "filt2 = (df['last']== 'Nayek') & (df['first']== 'Sitendu')"
   ]
  },
  {
   "cell_type": "code",
   "execution_count": 13,
   "id": "614cafd7-5cda-4598-9cb4-bb7d50617cd7",
   "metadata": {},
   "outputs": [
    {
     "data": {
      "text/html": [
       "<div>\n",
       "<style scoped>\n",
       "    .dataframe tbody tr th:only-of-type {\n",
       "        vertical-align: middle;\n",
       "    }\n",
       "\n",
       "    .dataframe tbody tr th {\n",
       "        vertical-align: top;\n",
       "    }\n",
       "\n",
       "    .dataframe thead th {\n",
       "        text-align: right;\n",
       "    }\n",
       "</style>\n",
       "<table border=\"1\" class=\"dataframe\">\n",
       "  <thead>\n",
       "    <tr style=\"text-align: right;\">\n",
       "      <th></th>\n",
       "      <th>first</th>\n",
       "      <th>last</th>\n",
       "      <th>email</th>\n",
       "    </tr>\n",
       "  </thead>\n",
       "  <tbody>\n",
       "    <tr>\n",
       "      <th>0</th>\n",
       "      <td>Agniswar</td>\n",
       "      <td>Chakraborty</td>\n",
       "      <td>agniwebdesign@gmail.com</td>\n",
       "    </tr>\n",
       "  </tbody>\n",
       "</table>\n",
       "</div>"
      ],
      "text/plain": [
       "      first         last                    email\n",
       "0  Agniswar  Chakraborty  agniwebdesign@gmail.com"
      ]
     },
     "execution_count": 13,
     "metadata": {},
     "output_type": "execute_result"
    }
   ],
   "source": [
    "df[filt]"
   ]
  },
  {
   "cell_type": "code",
   "execution_count": 16,
   "id": "a2640bb4-1066-47c7-a370-233573f75a8d",
   "metadata": {},
   "outputs": [
    {
     "data": {
      "text/html": [
       "<div>\n",
       "<style scoped>\n",
       "    .dataframe tbody tr th:only-of-type {\n",
       "        vertical-align: middle;\n",
       "    }\n",
       "\n",
       "    .dataframe tbody tr th {\n",
       "        vertical-align: top;\n",
       "    }\n",
       "\n",
       "    .dataframe thead th {\n",
       "        text-align: right;\n",
       "    }\n",
       "</style>\n",
       "<table border=\"1\" class=\"dataframe\">\n",
       "  <thead>\n",
       "    <tr style=\"text-align: right;\">\n",
       "      <th></th>\n",
       "      <th>first</th>\n",
       "      <th>last</th>\n",
       "      <th>email</th>\n",
       "    </tr>\n",
       "  </thead>\n",
       "  <tbody>\n",
       "    <tr>\n",
       "      <th>1</th>\n",
       "      <td>Sitendu</td>\n",
       "      <td>Das</td>\n",
       "      <td>sitendu@gmail.com</td>\n",
       "    </tr>\n",
       "    <tr>\n",
       "      <th>2</th>\n",
       "      <td>Yugant</td>\n",
       "      <td>Nayek</td>\n",
       "      <td>yagant@gmail.com</td>\n",
       "    </tr>\n",
       "  </tbody>\n",
       "</table>\n",
       "</div>"
      ],
      "text/plain": [
       "     first   last              email\n",
       "1  Sitendu    Das  sitendu@gmail.com\n",
       "2   Yugant  Nayek   yagant@gmail.com"
      ]
     },
     "execution_count": 16,
     "metadata": {},
     "output_type": "execute_result"
    }
   ],
   "source": [
    "df[~filt] # all the data other than filtering"
   ]
  },
  {
   "cell_type": "code",
   "execution_count": 18,
   "id": "ee959cef-02e2-4cd7-b70a-e8678e3e2c35",
   "metadata": {},
   "outputs": [
    {
     "data": {
      "text/plain": [
       "0    agniwebdesign@gmail.com\n",
       "Name: email, dtype: object"
      ]
     },
     "execution_count": 18,
     "metadata": {},
     "output_type": "execute_result"
    }
   ],
   "source": [
    "df.loc[filt, 'email']"
   ]
  },
  {
   "cell_type": "code",
   "execution_count": 22,
   "id": "9c6048c2-f0a3-4d11-920c-e4beb3f3cb03",
   "metadata": {},
   "outputs": [
    {
     "data": {
      "text/html": [
       "<div>\n",
       "<style scoped>\n",
       "    .dataframe tbody tr th:only-of-type {\n",
       "        vertical-align: middle;\n",
       "    }\n",
       "\n",
       "    .dataframe tbody tr th {\n",
       "        vertical-align: top;\n",
       "    }\n",
       "\n",
       "    .dataframe thead th {\n",
       "        text-align: right;\n",
       "    }\n",
       "</style>\n",
       "<table border=\"1\" class=\"dataframe\">\n",
       "  <thead>\n",
       "    <tr style=\"text-align: right;\">\n",
       "      <th></th>\n",
       "      <th>first</th>\n",
       "      <th>last</th>\n",
       "      <th>email</th>\n",
       "    </tr>\n",
       "  </thead>\n",
       "  <tbody>\n",
       "    <tr>\n",
       "      <th>0</th>\n",
       "      <td>Agniswar</td>\n",
       "      <td>Chakraborty</td>\n",
       "      <td>agniwebdesign@gmail.com</td>\n",
       "    </tr>\n",
       "    <tr>\n",
       "      <th>1</th>\n",
       "      <td>Sitendu</td>\n",
       "      <td>Das</td>\n",
       "      <td>sitendu@gmail.com</td>\n",
       "    </tr>\n",
       "  </tbody>\n",
       "</table>\n",
       "</div>"
      ],
      "text/plain": [
       "      first         last                    email\n",
       "0  Agniswar  Chakraborty  agniwebdesign@gmail.com\n",
       "1   Sitendu          Das        sitendu@gmail.com"
      ]
     },
     "execution_count": 22,
     "metadata": {},
     "output_type": "execute_result"
    }
   ],
   "source": [
    "df[filt1]"
   ]
  },
  {
   "cell_type": "code",
   "execution_count": 26,
   "id": "4262e1db-f31b-4e32-8ce8-334a80e2b94a",
   "metadata": {},
   "outputs": [
    {
     "data": {
      "text/html": [
       "<div>\n",
       "<style scoped>\n",
       "    .dataframe tbody tr th:only-of-type {\n",
       "        vertical-align: middle;\n",
       "    }\n",
       "\n",
       "    .dataframe tbody tr th {\n",
       "        vertical-align: top;\n",
       "    }\n",
       "\n",
       "    .dataframe thead th {\n",
       "        text-align: right;\n",
       "    }\n",
       "</style>\n",
       "<table border=\"1\" class=\"dataframe\">\n",
       "  <thead>\n",
       "    <tr style=\"text-align: right;\">\n",
       "      <th></th>\n",
       "      <th>first</th>\n",
       "      <th>last</th>\n",
       "      <th>email</th>\n",
       "    </tr>\n",
       "  </thead>\n",
       "  <tbody>\n",
       "  </tbody>\n",
       "</table>\n",
       "</div>"
      ],
      "text/plain": [
       "Empty DataFrame\n",
       "Columns: [first, last, email]\n",
       "Index: []"
      ]
     },
     "execution_count": 26,
     "metadata": {},
     "output_type": "execute_result"
    }
   ],
   "source": [
    "df[filt2]"
   ]
  },
  {
   "cell_type": "code",
   "execution_count": null,
   "id": "b90a10c5-6dcd-4df2-a835-801a26e82186",
   "metadata": {},
   "outputs": [],
   "source": []
  }
 ],
 "metadata": {
  "kernelspec": {
   "display_name": "Python 3 (ipykernel)",
   "language": "python",
   "name": "python3"
  },
  "language_info": {
   "codemirror_mode": {
    "name": "ipython",
    "version": 3
   },
   "file_extension": ".py",
   "mimetype": "text/x-python",
   "name": "python",
   "nbconvert_exporter": "python",
   "pygments_lexer": "ipython3",
   "version": "3.9.7"
  }
 },
 "nbformat": 4,
 "nbformat_minor": 5
}
