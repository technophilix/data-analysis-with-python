{
 "cells": [
  {
   "cell_type": "code",
   "execution_count": 13,
   "id": "5ce2fad5-e584-4884-8f57-7611e30e0773",
   "metadata": {},
   "outputs": [
    {
     "name": "stdout",
     "output_type": "stream",
     "text": [
      "[-0.32930422 -0.32165965 -0.31401509 -0.31401509 -0.31401509 -0.30637053\n",
      " -0.29872597 -0.26814772 -0.26050316 -0.26050316 -0.2528586  -0.22228035\n",
      "  3.46239863]\n"
     ]
    }
   ],
   "source": [
    "import scipy.stats as stats\n",
    "values =[4,5,6,6,6,7,8,12,13,13,14,18, 500]\n",
    "zscores = stats.zscore(values)\n",
    "print(zscores)\n"
   ]
  },
  {
   "cell_type": "code",
   "execution_count": null,
   "id": "c77694e9-88cd-4153-820b-e6da2f070c05",
   "metadata": {},
   "outputs": [],
   "source": []
  },
  {
   "cell_type": "code",
   "execution_count": null,
   "id": "cf5624e8-bc5b-40bc-97a5-006f2d77acb9",
   "metadata": {},
   "outputs": [],
   "source": []
  }
 ],
 "metadata": {
  "kernelspec": {
   "display_name": "Python 3",
   "language": "python",
   "name": "python3"
  },
  "language_info": {
   "codemirror_mode": {
    "name": "ipython",
    "version": 3
   },
   "file_extension": ".py",
   "mimetype": "text/x-python",
   "name": "python",
   "nbconvert_exporter": "python",
   "pygments_lexer": "ipython3",
   "version": "3.9.5"
  }
 },
 "nbformat": 4,
 "nbformat_minor": 5
}
