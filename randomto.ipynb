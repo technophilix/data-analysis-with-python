{
 "cells": [
  {
   "cell_type": "code",
   "execution_count": 4,
   "metadata": {},
   "outputs": [
    {
     "name": "stdin",
     "output_type": "stream",
     "text": [
      "enter a number 10000000\n"
     ]
    },
    {
     "data": {
      "image/png": "[encoded data removed]",
      "text/plain": [
       "<Figure size 432x288 with 1 Axes>"
      ]
     },
     "metadata": {
      "needs_background": "light"
     },
     "output_type": "display_data"
    }
   ],
   "source": [
    "import random\n",
    "import matplotlib.pyplot as plt\n",
    "n = int(input(\"enter a number\"));\n",
    "x=0;y=0;\n",
    "x_p =[] #empty list\n",
    "y_p =[] #empty list\n",
    "for i in range(1,n+1):\n",
    "    game =random.randint(1,4)\n",
    "    if game==1:\n",
    "        x=0.8*x+0.1\n",
    "        y=0.8*y+0.04\n",
    "        x_p.append(x)\n",
    "        y_p.append(y)\n",
    "    elif game==2:\n",
    "        x=0.5*x+0.25\n",
    "        y=0.5*y+0.4\n",
    "        x_p.append(x)\n",
    "        y_p.append(y)\n",
    "    elif game==3:\n",
    "        x=0.355*(x-y)+0.266\n",
    "        y=0.355*(x+y)*y+0.078\n",
    "        x_p.append(x)\n",
    "        y_p.append(y)\n",
    "    else:\n",
    "        x=0.355*(x+y)+0.378\n",
    "        y=0.355*(y-x)*y+0.434\n",
    "        x_p.append(x)\n",
    "        y_p.append(y)\n",
    "\n",
    "plt.plot(x_p,y_p,'.', color='black')        \n",
    "plt.show()"
   ]
  },
  {
   "cell_type": "code",
   "execution_count": null,
   "metadata": {},
   "outputs": [],
   "source": []
  }
 ],
 "metadata": {
  "kernelspec": {
   "display_name": "Python 3",
   "language": "python",
   "name": "python3"
  },
  "language_info": {
   "codemirror_mode": {
    "name": "ipython",
    "version": 3
   },
   "file_extension": ".py",
   "mimetype": "text/x-python",
   "name": "python",
   "nbconvert_exporter": "python",
   "pygments_lexer": "ipython3",
   "version": "3.7.6"
  }
 },
 "nbformat": 4,
 "nbformat_minor": 4
}
